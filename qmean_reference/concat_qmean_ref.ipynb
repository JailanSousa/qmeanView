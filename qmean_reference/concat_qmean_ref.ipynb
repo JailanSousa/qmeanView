{
 "cells": [
  {
   "cell_type": "code",
   "execution_count": 1,
   "id": "099a2050-a212-4812-be8e-177ecbfb2d23",
   "metadata": {},
   "outputs": [],
   "source": [
    "import pandas as pd\n",
    "from glob import glob"
   ]
  },
  {
   "cell_type": "code",
   "execution_count": 2,
   "id": "a21adee4-eb76-4c8a-bc09-1c456f37022d",
   "metadata": {},
   "outputs": [],
   "source": [
    "files = glob('*.csv')"
   ]
  },
  {
   "cell_type": "code",
   "execution_count": 3,
   "id": "ec82f8bd-e2c3-4908-9487-dbc0736b30bb",
   "metadata": {},
   "outputs": [],
   "source": [
    "data = []\n",
    "for i in files:\n",
    "    \n",
    "    qmean_ref = pd.read_csv(i)\n",
    "    data.append(qmean_ref)\n",
    "concat = pd.concat(data)\n"
   ]
  },
  {
   "cell_type": "code",
   "execution_count": 4,
   "id": "ec62bb55-20eb-4083-adbe-e903e8190a80",
   "metadata": {},
   "outputs": [],
   "source": [
    "concat.to_csv('qmean_refrence.csv', index=False)"
   ]
  },
  {
   "cell_type": "code",
   "execution_count": null,
   "id": "9669093c-84c1-4732-952c-e290ba0f1506",
   "metadata": {},
   "outputs": [],
   "source": []
  }
 ],
 "metadata": {
  "kernelspec": {
   "display_name": "DataScienceEnv",
   "language": "python",
   "name": "datascienceenv"
  },
  "language_info": {
   "codemirror_mode": {
    "name": "ipython",
    "version": 3
   },
   "file_extension": ".py",
   "mimetype": "text/x-python",
   "name": "python",
   "nbconvert_exporter": "python",
   "pygments_lexer": "ipython3",
   "version": "3.12.2"
  }
 },
 "nbformat": 4,
 "nbformat_minor": 5
}
