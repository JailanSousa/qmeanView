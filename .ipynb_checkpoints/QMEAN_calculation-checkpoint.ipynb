{
 "cells": [
  {
   "cell_type": "code",
   "execution_count": 1,
   "id": "740a0334-a610-4713-8a38-113457cc1ed7",
   "metadata": {},
   "outputs": [],
   "source": [
    "import pandas as pd\n",
    "import numpy as np\n",
    "import requests\n",
    "import re\n",
    "import shutil\n",
    "\n",
    "from glob import glob\n",
    "from tqdm import tqdm\n",
    "\n",
    "import time"
   ]
  },
  {
   "cell_type": "markdown",
   "id": "5ca28cab-7bd0-46e7-ba8b-bbc19af40ddf",
   "metadata": {},
   "source": [
    "## Get pdb reference dataset assessment metrics."
   ]
  },
  {
   "cell_type": "code",
   "execution_count": 2,
   "id": "ba6b0cac-44cb-4b6f-9046-2d7226c5060e",
   "metadata": {},
   "outputs": [],
   "source": [
    "def qmean_calculation(file):\n",
    "\n",
    "    qmean_url = \"https://swissmodel.expasy.org/qmean/submit/\"\n",
    "\n",
    "    \n",
    "    token = 'a9b3d9b9a96bb9be574137b48f8d1a1a5eb4f3b8'\n",
    "    result = []\n",
    "    for i in tqdm(glob(file)):\n",
    "        pdb_file = i\n",
    "\n",
    "        # To upload a local file found at /path/to/my_structure.pdb\n",
    "        # ('rb' is recommended to allow zip file upload)\n",
    "        try: \n",
    "            response = requests.post(url=qmean_url, headers={ \"Authorization\": f\"Token {token}\" },\n",
    "                                     data={\n",
    "                                        \"email\": \"jailann22silvasousa@gmail.com\",\n",
    "                                        \"project_name\": \"pdb_ref_qmean_metrics\",\n",
    "                                     },\n",
    "                                     files={\n",
    "                                        \"structure\": open(i, 'rb'),\n",
    "                                     })\n",
    "\n",
    "            run = True\n",
    "            while run:\n",
    "                time.sleep(10)\n",
    "                current_status = requests.get(response.json()[\"results_json\"])\n",
    "                status = current_status.json()['status']\n",
    "                if status == 'COMPLETED':\n",
    "                    result.append(current_status)\n",
    "                    run = False\n",
    "                 \n",
    "\n",
    "       \n",
    "            response.raise_for_status()\n",
    "        \n",
    "        except requests.exceptions.HTTPError as errh:\n",
    "            print (\"Http Error:\",errh)\n",
    "            return result\n",
    "        except requests.exceptions.ConnectionError as errc:\n",
    "            print (\"Error Connecting:\",errc)\n",
    "            return result\n",
    "        except requests.exceptions.Timeout as errt:\n",
    "            print (\"Timeout Error:\",errt)\n",
    "            return result\n",
    "        except requests.exceptions.RequestException as err:\n",
    "            print (\"OOps: Something Else\",err)\n",
    "            return result\n",
    "            \n",
    "    print('Done!')\n",
    "    return result"
   ]
  },
  {
   "cell_type": "code",
   "execution_count": 3,
   "id": "be54a28a-3cd4-482f-934a-25ec7cf145a1",
   "metadata": {},
   "outputs": [],
   "source": [
    "file = 'pdb_reference_set/*.pdb'"
   ]
  },
  {
   "cell_type": "code",
   "execution_count": 4,
   "id": "78d27a09-0ef2-4b27-b205-23779b0103dd",
   "metadata": {
    "scrolled": true
   },
   "outputs": [
    {
     "name": "stderr",
     "output_type": "stream",
     "text": [
      "100%|███████████████████████████████████████| 278/278 [5:40:48<00:00, 73.55s/it]"
     ]
    },
    {
     "name": "stdout",
     "output_type": "stream",
     "text": [
      "Done!\n"
     ]
    },
    {
     "name": "stderr",
     "output_type": "stream",
     "text": [
      "\n"
     ]
    }
   ],
   "source": [
    "results = qmean_calculation(file)"
   ]
  },
  {
   "cell_type": "code",
   "execution_count": 5,
   "id": "61a72eac-3b48-4cfd-b692-2c138875d870",
   "metadata": {},
   "outputs": [],
   "source": [
    "def getitem_for(d, key):\n",
    "    for level in key:\n",
    "        d = d[level]\n",
    "    return d\n",
    "\n",
    "def structure_data(result):\n",
    "    \n",
    "    qmean4_zscore_keys = ['model_001', 'scores', 'global_scores', 'qmean4_z_score']\n",
    "    qmean4_norm_keys = ['model_001', 'scores', 'global_scores', 'qmean4_norm_score']\n",
    "    qmeandisco_keys = ['model_001', 'scores', 'local_scores', 'A']\n",
    "    protein_size = ['model_001', 'chains', 'A', 'atomseq']\n",
    "\n",
    "    plot_data = []\n",
    "    for i in range(len(result)):\n",
    "        data = results[i].json()['models']\n",
    "\n",
    "        for key, values in data.items():\n",
    "\n",
    "            model_name = data[key]['original_name']\n",
    "    \n",
    "            #protein_size[0] = key\n",
    "            protein_size[-2] = \"\".join(data[key]['chains'].keys())\n",
    "            #qmean4_zscore_keys[0] = key\n",
    "            #qmean4_norm_keys[0] = key\n",
    "            qmeandisco_keys[-1] = \"\".join(data[key]['scores']['local_scores'].keys())\n",
    "    \n",
    "\n",
    "            data_structured = {\n",
    "                                'model_name' : model_name,\n",
    "                                'protein_size': len(getitem_for(data, protein_size)),\n",
    "                                'qmean4_zscore': float(f\"{getitem_for(data, qmean4_zscore_keys):.2f}\"),\n",
    "                                'qmean4_norm': float(f\"{getitem_for(data, qmean4_norm_keys):.2}\"),\n",
    "                                'qmeandisco': float(f\"{np.mean(np.array(getitem_for(data, qmeandisco_keys))):.2f}\")\n",
    "                                }\n",
    "            plot_data.append(data_structured)\n",
    "\n",
    "    return plot_data"
   ]
  },
  {
   "cell_type": "code",
   "execution_count": 6,
   "id": "0b079687-1356-489c-95f1-d897f376caab",
   "metadata": {},
   "outputs": [],
   "source": [
    "pdb_ref_metrics = structure_data(result=results)\n",
    "pdb_ref = pd.DataFrame(pdb_ref_metrics)\n",
    "pdb_ref.to_csv(\"pdb_ref_qmean_metrics_278.csv\", index=False)"
   ]
  },
  {
   "cell_type": "markdown",
   "id": "7eab4c59-96ae-4eaf-9ff9-9beb0205ec0d",
   "metadata": {},
   "source": [
    "## MV DONE."
   ]
  },
  {
   "cell_type": "code",
   "execution_count": 7,
   "id": "fc5184a8-af33-4a3b-b5e8-addbd4c35241",
   "metadata": {},
   "outputs": [
    {
     "name": "stdout",
     "output_type": "stream",
     "text": [
      "Done!\n"
     ]
    }
   ],
   "source": [
    "qmean = pd.read_csv('pdb_ref_qmean_metrics_278.csv')\n",
    "\n",
    "files = 'pdb_reference_set/*.pdb'\n",
    "\n",
    "for i in glob(files):\n",
    "    filename = i.split('/')[1]\n",
    "    for j in range(len(qmean)):\n",
    "        model_name = qmean['model_name'][j]\n",
    "\n",
    "        if filename == model_name:\n",
    "            shutil.move(f\"pdb_reference_set/{model_name}\", 'done/')\n",
    "\n",
    "print('Done!')"
   ]
  },
  {
   "cell_type": "code",
   "execution_count": null,
   "id": "439c8257-916d-45d4-ab2b-e76e31bb9bae",
   "metadata": {},
   "outputs": [],
   "source": []
  }
 ],
 "metadata": {
  "kernelspec": {
   "display_name": "DataScienceEnv",
   "language": "python",
   "name": "datascienceenv"
  },
  "language_info": {
   "codemirror_mode": {
    "name": "ipython",
    "version": 3
   },
   "file_extension": ".py",
   "mimetype": "text/x-python",
   "name": "python",
   "nbconvert_exporter": "python",
   "pygments_lexer": "ipython3",
   "version": "3.12.2"
  }
 },
 "nbformat": 4,
 "nbformat_minor": 5
}
