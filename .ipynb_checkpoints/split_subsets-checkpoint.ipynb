{
 "cells": [
  {
   "cell_type": "code",
   "execution_count": 1,
   "id": "71967935-1b79-4a81-84c5-2fbe21fe3cf6",
   "metadata": {},
   "outputs": [],
   "source": [
    "import pandas as pd"
   ]
  },
  {
   "cell_type": "code",
   "execution_count": 3,
   "id": "2a1bdbd8-c0d2-4ea7-8ab8-bdc666437c26",
   "metadata": {},
   "outputs": [],
   "source": [
    "models = pd.read_csv(\"models_qmean.csv\")\n",
    "to_model = pd.read_csv(\"to_model.csv\")"
   ]
  },
  {
   "cell_type": "code",
   "execution_count": 12,
   "id": "9c7aad00-86b7-4918-96f1-6d88fd0439bc",
   "metadata": {},
   "outputs": [],
   "source": [
    "models.set_index(models.model_name)\n",
    "remove = to_model.Entry"
   ]
  },
  {
   "cell_type": "code",
   "execution_count": null,
   "id": "2fd897e5-ef54-40ad-9c3b-ca1bf0e49ba5",
   "metadata": {},
   "outputs": [],
   "source": [
    "for i "
   ]
  }
 ],
 "metadata": {
  "kernelspec": {
   "display_name": "DataScienceEnv",
   "language": "python",
   "name": "datascienceenv"
  },
  "language_info": {
   "codemirror_mode": {
    "name": "ipython",
    "version": 3
   },
   "file_extension": ".py",
   "mimetype": "text/x-python",
   "name": "python",
   "nbconvert_exporter": "python",
   "pygments_lexer": "ipython3",
   "version": "3.12.2"
  }
 },
 "nbformat": 4,
 "nbformat_minor": 5
}
