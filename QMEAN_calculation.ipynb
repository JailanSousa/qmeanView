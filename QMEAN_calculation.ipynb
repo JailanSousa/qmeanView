{
 "cells": [
  {
   "cell_type": "code",
   "execution_count": 1,
   "id": "740a0334-a610-4713-8a38-113457cc1ed7",
   "metadata": {},
   "outputs": [],
   "source": [
    "import pandas as pd\n",
    "import numpy as np\n",
    "import requests\n",
    "import re\n",
    "\n",
    "from glob import glob\n",
    "from tqdm import tqdm\n",
    "\n",
    "import time"
   ]
  },
  {
   "cell_type": "markdown",
   "id": "5ca28cab-7bd0-46e7-ba8b-bbc19af40ddf",
   "metadata": {},
   "source": [
    "## Get pdb reference dataset assessment metrics."
   ]
  },
  {
   "cell_type": "code",
   "execution_count": 2,
   "id": "ba6b0cac-44cb-4b6f-9046-2d7226c5060e",
   "metadata": {},
   "outputs": [],
   "source": [
    "def qmean_calculation(file):\n",
    "\n",
    "    qmean_url = \"https://swissmodel.expasy.org/qmean/submit/\"\n",
    "\n",
    "    token = 'a9b3d9b9a96bb9be574137b48f8d1a1a5eb4f3b8'\n",
    "\n",
    "    result = []\n",
    "    for i in tqdm(glob(file)):\n",
    "        pdb_file = i\n",
    "\n",
    "        # To upload a local file found at /path/to/my_structure.pdb\n",
    "        # ('rb' is recommended to allow zip file upload)\n",
    "        try: \n",
    "            response = requests.post(url=qmean_url, headers={ \"Authorization\": f\"Token {token}\" },\n",
    "                                     data={ \n",
    "                                        \"email\": \"jailann22silvasousa@gmail.com\" \n",
    "                                     },\n",
    "                                     files={\n",
    "                                        \"structure\": open(i, 'rb'),\n",
    "                                     })\n",
    "\n",
    "            run = True\n",
    "            while run:\n",
    "                time.sleep(10)\n",
    "                current_status = requests.get(response.json()[\"results_json\"])\n",
    "                status = current_status.json()['status']\n",
    "                if status == 'COMPLETED':\n",
    "                    result.append(current_status)\n",
    "                    run = False\n",
    "                 \n",
    "\n",
    "       \n",
    "            response.raise_for_status()\n",
    "        \n",
    "        except requests.exceptions.HTTPError as errh:\n",
    "            print(\"Http Error:\",errh)\n",
    "            return result\n",
    "        except requests.exceptions.ConnectionError as errc:\n",
    "            print(\"Error Connecting:\",errc)\n",
    "            return result\n",
    "        except requests.exceptions.Timeout as errt:\n",
    "            print(\"Timeout Error:\",errt)\n",
    "            return result\n",
    "        except requests.exceptions.RequestException as err:\n",
    "            return result\n",
    "            print(\"OOps: Something Else\",err)\n",
    "\n",
    "    return result"
   ]
  },
  {
   "cell_type": "code",
   "execution_count": 3,
   "id": "be54a28a-3cd4-482f-934a-25ec7cf145a1",
   "metadata": {},
   "outputs": [],
   "source": [
    "file = '*.pdb'"
   ]
  },
  {
   "cell_type": "code",
   "execution_count": null,
   "id": "78d27a09-0ef2-4b27-b205-23779b0103dd",
   "metadata": {},
   "outputs": [
    {
     "name": "stderr",
     "output_type": "stream",
     "text": [
      " 12%|█████                                      | 11/93 [06:36<51:38, 37.79s/it]"
     ]
    }
   ],
   "source": [
    "results = qmean_calculation(file)"
   ]
  },
  {
   "cell_type": "code",
   "execution_count": null,
   "id": "61a72eac-3b48-4cfd-b692-2c138875d870",
   "metadata": {},
   "outputs": [],
   "source": [
    "def getitem_for(d, key):\n",
    "    for level in key:\n",
    "        d = d[level]\n",
    "    return d\n",
    "\n",
    "def structure_data(data):\n",
    "    \n",
    "    qmean4_zscore_keys = ['model', 'scores', 'global_scores', 'qmean4_z_score']\n",
    "    qmean4_norm_keys = ['model', 'scores', 'global_scores', 'qmean4_norm_score']\n",
    "    qmeandisco_keys = ['model', 'scores', 'local_scores', 'A']\n",
    "    protein_size = ['model', 'chains', 'A', 'atomseq']\n",
    "\n",
    "    plot_data = []\n",
    "    for i in range(len(results)):\n",
    "        data = results[i].json()['models']\n",
    "\n",
    "        for key, values in data.items():\n",
    "\n",
    "            model_name = data[key]['original_name']\n",
    "    \n",
    "            protein_size[0] = key\n",
    "            qmean4_zscore_keys[0] = key\n",
    "            qmean4_norm_keys[0] = key\n",
    "            qmeandisco_keys[0] = key\n",
    "    \n",
    "\n",
    "            data_structured = {\n",
    "                                'model_name' : model_name,\n",
    "                                'protein_size': len(getitem_for(data, protein_size)),\n",
    "                                'qmean4_zscore': float(f\"{getitem_for(data, qmean4_zscore_keys):.2f}\"),\n",
    "                                'qmean4_norm': float(f\"{getitem_for(data, qmean4_norm_keys):.2}\"),\n",
    "                                'qmeandisco': float(f\"{np.mean(np.array(getitem_for(data, qmeandisco_keys))):.2f}\")\n",
    "                                }\n",
    "            plot_data.append(data_structured)\n",
    "\n",
    "    return plot_data"
   ]
  },
  {
   "cell_type": "code",
   "execution_count": null,
   "id": "0b079687-1356-489c-95f1-d897f376caab",
   "metadata": {},
   "outputs": [],
   "source": [
    "pdb_ref_metrics = structure_data(data=data)\n",
    "pdb_ref = pd.DataFrame(pdb_ref_metrics)\n",
    "pdb_ref.to_csv(\"models_qmean.csv\", index=False)"
   ]
  },
  {
   "cell_type": "markdown",
   "id": "7eab4c59-96ae-4eaf-9ff9-9beb0205ec0d",
   "metadata": {},
   "source": [
    "## Get models assessment metrics."
   ]
  },
  {
   "cell_type": "code",
   "execution_count": null,
   "id": "fc5184a8-af33-4a3b-b5e8-addbd4c35241",
   "metadata": {},
   "outputs": [],
   "source": []
  }
 ],
 "metadata": {
  "kernelspec": {
   "display_name": "DataScienceEnv",
   "language": "python",
   "name": "datascienceenv"
  },
  "language_info": {
   "codemirror_mode": {
    "name": "ipython",
    "version": 3
   },
   "file_extension": ".py",
   "mimetype": "text/x-python",
   "name": "python",
   "nbconvert_exporter": "python",
   "pygments_lexer": "ipython3",
   "version": "3.12.2"
  }
 },
 "nbformat": 4,
 "nbformat_minor": 5
}
